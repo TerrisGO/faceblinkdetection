{
 "cells": [
  {
   "cell_type": "code",
   "execution_count": 1,
   "metadata": {},
   "outputs": [],
   "source": [
    "# *************************************************************************************************\n",
    "# Author: Andi Sama \n",
    "# Purpose: Generate face dataset through integrated camera\n",
    "# Organization: Sinergi Wahana Gemilang\n",
    "# Creation Date: April 13, 2020\n",
    "# Changes history:\n",
    "#   April 15, 2020: finalized\n",
    "# *************************************************************************************************"
   ]
  },
  {
   "cell_type": "code",
   "execution_count": 2,
   "metadata": {},
   "outputs": [],
   "source": [
    "import os\n",
    "from imutils.video import VideoStream\n",
    "import cv2\n",
    "import time"
   ]
  },
  {
   "cell_type": "code",
   "execution_count": 3,
   "metadata": {},
   "outputs": [],
   "source": [
    "# # updating count down value, shown as label on view window during recording\n",
    "# import threading\n",
    "# class MyThread(threading.Thread):\n",
    "#     counter = 0\n",
    "#     def __init__(self, name, max, delay):\n",
    "#         threading.Thread.__init__(self)\n",
    "#         self.name = name\n",
    "#         self.max = max\n",
    "#         self.delay = delay\n",
    "#     def run(self):\n",
    "#         # print('DEBUG: starting thread...%s', self.name)\n",
    "#         thread_count_down(self.name, self.max, self.delay)\n",
    "#         # print('DEBUG: finished thread...%s', self.name)\n",
    "#     def thread_count_down(self):\n",
    "#         self.counter = self.max\n",
    "#         while self.counter:\n",
    "#             time.sleep(self.delay)\n",
    "#             print('DEBUG: Thread %s is counting down %i' % (self.name, self.counter))\n",
    "#             self.counter -= 1\n",
    "#     def get_count(self):\n",
    "#         return self.counter \n",
    "    \n",
    "# t =  MyThread(\"Counting down thread...\", 10, 1)\n",
    "# t.thread_count_down()\n",
    "# t.get_count()    "
   ]
  },
  {
   "cell_type": "code",
   "execution_count": 4,
   "metadata": {},
   "outputs": [],
   "source": [
    "def generate_faces(new_path, new_face):\n",
    "    video_capture = VideoStream(src=0).start()\n",
    "    count=1\n",
    "    while True:\n",
    "        frame = video_capture.read()\n",
    "        cv2.imshow(\"recording faces...\", frame)        \n",
    "        key_pressed = cv2.waitKey(500) # wait 0.5 second\n",
    "        filename = new_path + '/' + new_face + str(count) + '.jpg'\n",
    "        if not(key_pressed & 0xFF == ord('q')): # q=quit\n",
    "            cv2.imwrite(filename, frame)\n",
    "            count += 1\n",
    "        else: \n",
    "            break\n",
    "\n",
    "    cv2.destroyAllWindows()\n",
    "    video_capture.stop()\n",
    "    print(\"[LOG] recording done.\")\n",
    "    status=1\n",
    "    return status"
   ]
  },
  {
   "cell_type": "code",
   "execution_count": 5,
   "metadata": {
    "scrolled": true
   },
   "outputs": [
    {
     "name": "stdout",
     "output_type": "stream",
     "text": [
      "Sub directory: \" faces/Andi Sama\" created\n",
      "LOG: Generating images of face... Andi Sama\n",
      "[LOG] recording done.\n",
      "success\n"
     ]
    }
   ],
   "source": [
    "if __name__ == \"__main__\":\n",
    "    face_dir = 'faces/'\n",
    "    new_face = 'Andi Sama'\n",
    "    new_path = face_dir + new_face\n",
    "\n",
    "    # if sub-directory with new name does not exist, then create\n",
    "    cwd = os.getcwd()\n",
    "    if os.path.exists(new_path):\n",
    "        print('Sub directory: \"', new_path + '\" exists in', cwd, '- please remove it first')\n",
    "    else:\n",
    "        try:\n",
    "            os.mkdir(new_path)\n",
    "            print('Sub directory: \"', new_path + '\" created')\n",
    "            print('LOG: Generating images of face...', new_face)\n",
    "            if generate_faces(new_path, new_face):\n",
    "                print(\"success\")\n",
    "            else:\n",
    "                print(\"failed\")                \n",
    "        except FileExistsError:\n",
    "            print('Sub directory: \"', new_path + '\" already exist')\n"
   ]
  },
  {
   "cell_type": "code",
   "execution_count": null,
   "metadata": {},
   "outputs": [],
   "source": []
  }
 ],
 "metadata": {
  "kernelspec": {
   "display_name": "Python 3",
   "language": "python",
   "name": "python3"
  },
  "language_info": {
   "codemirror_mode": {
    "name": "ipython",
    "version": 3
   },
   "file_extension": ".py",
   "mimetype": "text/x-python",
   "name": "python",
   "nbconvert_exporter": "python",
   "pygments_lexer": "ipython3",
   "version": "3.7.7"
  }
 },
 "nbformat": 4,
 "nbformat_minor": 4
}
